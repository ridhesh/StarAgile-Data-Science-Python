{
 "cells": [
  {
   "cell_type": "markdown",
   "id": "5fad3b2a",
   "metadata": {
    "id": "5fad3b2a"
   },
   "source": [
    "# Assessment - 2 Gradable\n",
    "\n",
    "- Each question carries 3 marks\n",
    "- Marks will be assigned in terms of:\n",
    "    \n",
    "    **1. Expected output**\n",
    "    \n",
    "    **2. Quality and Explainability of code**\n",
    "\n",
    "    ***Go back through the script and type a comment above each line explaining in English what it does.***\n",
    "\n",
    "    **3. Copied code, if found, will result in 0 marks for that question. To avoid this make as much comments in the code to explain the approach**"
   ]
  },
  {
   "cell_type": "markdown",
   "id": "03363a58",
   "metadata": {
    "id": "03363a58"
   },
   "source": [
    "### 1.\n",
    "\n",
    "Write a Python program to perform following tasks on a list\n",
    "\n",
    "<ol>\n",
    "    <li>Create an empty list with name l1</li>\n",
    "    <li>Add atleast 5 number to the l1</li>\n",
    "    <li>Add 100 at 2<sup>nd</sup> position</li>\n",
    "    <li>Add 1000 at front of the l1</li>\n",
    "    <li>Delete element at 3<sup>rd</sup> position</li>\n",
    "    <li>Display elements at even position</li>\n",
    "    <li>Display elements in reverse order</li>\n",
    "</ol>"
   ]
  },
  {
   "cell_type": "code",
   "execution_count": 2,
   "id": "73d7418b",
   "metadata": {
    "id": "73d7418b"
   },
   "outputs": [
    {
     "name": "stdout",
     "output_type": "stream",
     "text": [
      "[10, 100, 30, 40, 50]\n",
      "[1000, 100, 30, 40, 50]\n",
      "[1000, 100, 40, 50]\n",
      "Elements at even positions: [100, 50]\n",
      "Elements at reverse order: [50, 40, 100, 1000]\n"
     ]
    }
   ],
   "source": [
    "#Create an empty list with name l1\n",
    "l1 = []\n",
    "\n",
    "# Add at least 5 numbers to the list\n",
    "l1 = [10, 20, 30, 40, 50]\n",
    "\n",
    "# Add 100 at the 2nd position\n",
    "l1[1] = 100\n",
    "print(l1)\n",
    "\n",
    "#Add 1000 at front of the l1\n",
    "l1[0] = 1000\n",
    "print(l1)\n",
    "\n",
    "#Delete element at 3rd position\n",
    "del l1[2] \n",
    "print(l1)\n",
    "\n",
    "#Display elements at even position\n",
    "print(\"Elements at even positions:\", l1[1::2])\n",
    "\n",
    "#Display elements in reverse order\n",
    "print(\"Elements at reverse order:\", l1[::-1])"
   ]
  },
  {
   "cell_type": "markdown",
   "id": "3d5efe73",
   "metadata": {
    "id": "3d5efe73"
   },
   "source": [
    "### 2. \n",
    "\n",
    "Grab ``StarAgile`` from the following Dictionaries\n",
    "\n",
    "d_difficult = {'k1':[{'nest_key':['this is deep',['StarAgile']]}]}\n",
    "\n",
    "d_irritating = {'k1':[1,2,{'k2':['this is not easy',{'VeryIrriating':[1,2,['StarAgile']]}]}]}"
   ]
  },
  {
   "cell_type": "code",
   "execution_count": 5,
   "id": "9fb35ce9",
   "metadata": {
    "id": "9fb35ce9"
   },
   "outputs": [
    {
     "name": "stdout",
     "output_type": "stream",
     "text": [
      "StarAgile\n",
      "StarAgile\n"
     ]
    }
   ],
   "source": [
    "d_difficult = {'k1':[{'nest_key':['this is deep',['StarAgile']]}]}\n",
    "\n",
    "d_irritating = {'k1':[1,2,{'k2':['this is not easy',{'VeryIrriating':[1,2,['StarAgile']]}]}]}\n",
    "\n",
    "#Extracting Stargile from d_difficult\n",
    "staragile_dict = d_difficult['k1'][0]['nest_key'][1][0]\n",
    "print(staragile_dict)\n",
    "\n",
    "#Extracting Stargile from d_irritating\n",
    "staragile_irritating = d_irritating['k1'][2]['k2'][1]['VeryIrriating'][2][0]\n",
    "print(staragile_irritating)"
   ]
  },
  {
   "cell_type": "markdown",
   "id": "0540a188",
   "metadata": {
    "id": "0540a188"
   },
   "source": [
    "### 3.\n",
    "\n",
    "Write a program to accept a string from the user and display characters that are present at an even index number.\n",
    "\n",
    "For example, str = \"judgemental\" so you should display ‘j’, ‘d’, ‘e’, ‘e’, ‘t’, ‘l’."
   ]
  },
  {
   "cell_type": "code",
   "execution_count": 1,
   "id": "21f5b9dd",
   "metadata": {
    "id": "21f5b9dd"
   },
   "outputs": [
    {
     "name": "stdout",
     "output_type": "stream",
     "text": [
      "Enter The String:StarAgile\n",
      "characters that are present at an even index : SaAie\n"
     ]
    }
   ],
   "source": [
    "string = input(\"Enter The String:\")\n",
    "string_even = string[::2]\n",
    "print(\"characters that are present at an even index :\", string_even)"
   ]
  },
  {
   "cell_type": "markdown",
   "id": "e0884cde",
   "metadata": {
    "id": "e0884cde"
   },
   "source": [
    "### 4. \n",
    "\n",
    "Convert the Float Value of '3.8' into Integer, Complex, Binary and Hexidecimal format"
   ]
  },
  {
   "cell_type": "code",
   "execution_count": 3,
   "id": "99555c16",
   "metadata": {
    "id": "99555c16"
   },
   "outputs": [
    {
     "name": "stdout",
     "output_type": "stream",
     "text": [
      "3\n",
      "(3.8+0j)\n",
      "0b11\n",
      "0x3\n"
     ]
    }
   ],
   "source": [
    "#Converting Floating point number value 3.8 to Integer value\n",
    "float_value = 3.8\n",
    "integer_value=int(float_value)\n",
    "print(integer_value)\n",
    "#Output: 3\n",
    "\n",
    "#Converting Floating point number value 3.8 to Complex value\n",
    "float_value = 3.8\n",
    "complex_value=complex(float_value)\n",
    "print(complex_value)\n",
    "#Output: (3.8+0j)\n",
    "\n",
    "#Converting Floating point number value 3.8 to Binary value\n",
    "float_value = 3.8\n",
    "integer_value = int(float_value)\n",
    "binary_value = bin(integer_value)\n",
    "print(binary_value)\n",
    "#Ouput 0b11 (11 is binary)\n",
    "\n",
    "#Converting Floating point number value 3.8 to Hexadecimal value\n",
    "float_value = 3.8\n",
    "integer_value = int(float_value)\n",
    "hex_value = hex(integer_value)\n",
    "print(hex_value)"
   ]
  },
  {
   "cell_type": "markdown",
   "id": "25187f2c",
   "metadata": {
    "id": "25187f2c"
   },
   "source": [
    "### 5. \n",
    "\n",
    "Write a program to accept five names from the user and store it in a Tuple 'T1'"
   ]
  },
  {
   "cell_type": "code",
   "execution_count": 4,
   "id": "7e9e98e3",
   "metadata": {
    "id": "7e9e98e3"
   },
   "outputs": [
    {
     "name": "stdout",
     "output_type": "stream",
     "text": [
      "Enter name 1: john\n",
      "Enter name 2: harry\n",
      "Enter name 3: andreq\n",
      "Enter name 4: Johnson\n",
      "Enter name 5: chris\n",
      "Tuple T1: ('john', 'harry', 'andreq', 'Johnson', 'chris')\n"
     ]
    }
   ],
   "source": [
    "# Accept five names from the user\n",
    "name1 = input(\"Enter name 1: \")\n",
    "name2 = input(\"Enter name 2: \")\n",
    "name3 = input(\"Enter name 3: \")\n",
    "name4 = input(\"Enter name 4: \")\n",
    "name5 = input(\"Enter name 5: \")\n",
    "\n",
    "# Store the names in a tuple\n",
    "T1 = (name1, name2, name3, name4, name5)\n",
    "\n",
    "# Display the tuple\n",
    "print(\"Tuple T1:\", T1)\n"
   ]
  }
 ],
 "metadata": {
  "colab": {
   "provenance": []
  },
  "kernelspec": {
   "display_name": "Python 3 (ipykernel)",
   "language": "python",
   "name": "python3"
  },
  "language_info": {
   "codemirror_mode": {
    "name": "ipython",
    "version": 3
   },
   "file_extension": ".py",
   "mimetype": "text/x-python",
   "name": "python",
   "nbconvert_exporter": "python",
   "pygments_lexer": "ipython3",
   "version": "3.10.9"
  }
 },
 "nbformat": 4,
 "nbformat_minor": 5
}
