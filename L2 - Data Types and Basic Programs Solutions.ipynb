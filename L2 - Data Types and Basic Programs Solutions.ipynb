{
 "cells": [
  {
   "cell_type": "markdown",
   "id": "9cacd9e4",
   "metadata": {
    "id": "9cacd9e4"
   },
   "source": [
    "# Data Types\n",
    "- Write solution of each question in the cell given below the corresponsing question."
   ]
  },
  {
   "cell_type": "markdown",
   "id": "a36a3683",
   "metadata": {
    "id": "a36a3683"
   },
   "source": [
    "#### 1. Write a program to take principal amount, rate and interest as input and calculate simple interest."
   ]
  },
  {
   "cell_type": "code",
   "execution_count": 7,
   "id": "z6EiFHNI8sCg",
   "metadata": {
    "colab": {
     "base_uri": "https://localhost:8080/"
    },
    "executionInfo": {
     "elapsed": 10576,
     "status": "ok",
     "timestamp": 1675784300390,
     "user": {
      "displayName": "N Akash",
      "userId": "10398409566081282158"
     },
     "user_tz": -330
    },
    "id": "z6EiFHNI8sCg",
    "outputId": "cb3ec5fc-af97-4bfd-e9d0-72442cd4338e"
   },
   "outputs": [
    {
     "name": "stdout",
     "output_type": "stream",
     "text": [
      "Enter the amount : 3000\n",
      "Enter the rate of interest : 12\n",
      "Enter the duration for the interest : 1\n",
      "The simple interest =  360.0\n"
     ]
    }
   ],
   "source": [
    "amount = int(input('Enter the amount : '))                   #Enter the amount\n",
    "rate = int(input('Enter the rate of interest : '))           #Enter the rate of interest\n",
    "time = int(input('Enter the year for the interest : '))      #Enter the duration for the rate of interest\n",
    "\n",
    "#Simple interest = principle amount * rate of interest * time interval  ----> Formula to calculate Simple interest\n",
    "\n",
    "S = (amount*rate*time)/100                                   #----> Formula to calculate Simple interest\n",
    "\n",
    "print('The simple interest = ', S)"
   ]
  },
  {
   "cell_type": "markdown",
   "id": "3a9994e0",
   "metadata": {
    "id": "3a9994e0"
   },
   "source": [
    "#### 2. Write a program that takes a string as input and prints the number of words in the string."
   ]
  },
  {
   "cell_type": "code",
   "execution_count": 42,
   "id": "SQokqn-Pm7Zv",
   "metadata": {
    "colab": {
     "base_uri": "https://localhost:8080/"
    },
    "executionInfo": {
     "elapsed": 17412,
     "status": "ok",
     "timestamp": 1675786508691,
     "user": {
      "displayName": "N Akash",
      "userId": "10398409566081282158"
     },
     "user_tz": -330
    },
    "id": "SQokqn-Pm7Zv",
    "outputId": "065225c4-64e8-4e76-89f4-e653f9e2310c"
   },
   "outputs": [
    {
     "name": "stdout",
     "output_type": "stream",
     "text": [
      "Enter the command : I will definetly become a data scientist\n",
      "Total number of words in the given string:  7\n"
     ]
    }
   ],
   "source": [
    "x = str(input(\"Enter the command : \"))                    # Enter the string to get counted\n",
    "Count = 0;  \n",
    "   \n",
    "for i in range(0, len(x)-1):                              # Runs for loop from starting to last of string\n",
    "\n",
    "    if(x[i] == ' ' and x[i+1].isalpha() and (i > 0)):     # Condition\n",
    "        Count = Count + 1;   \n",
    "Count = Count + 1;  \n",
    "    \n",
    "print(\"Total number of words in the given string: \",  str(Count))    #Displays the total number of words present in the given string "
   ]
  },
  {
   "cell_type": "markdown",
   "id": "8a8d5e27",
   "metadata": {
    "id": "8a8d5e27"
   },
   "source": [
    "#### 3. Write a program to take a list of numbers as input (in a single line) and print the sum, avg, max and min elements."
   ]
  },
  {
   "cell_type": "code",
   "execution_count": 8,
   "id": "lLtHVeEC8utA",
   "metadata": {
    "colab": {
     "base_uri": "https://localhost:8080/"
    },
    "executionInfo": {
     "elapsed": 861,
     "status": "ok",
     "timestamp": 1675787534020,
     "user": {
      "displayName": "N Akash",
      "userId": "10398409566081282158"
     },
     "user_tz": -330
    },
    "id": "lLtHVeEC8utA",
    "outputId": "a3b77d80-b5ba-4be8-99c5-ecda5c2a2163"
   },
   "outputs": [
    {
     "name": "stdout",
     "output_type": "stream",
     "text": [
      "Enter a list of numbers (space-separated): 2 4 6 8 10\n",
      "\n",
      "\n",
      "Sum: 30\n",
      "Average: 6.0\n",
      "Maximum: 10\n",
      "Minimum: 2\n"
     ]
    }
   ],
   "source": [
    "# x = int(input(\"How many numbers you wanna add to list : \" ))\n",
    "# y = int(input('Enter the number : '))\n",
    "#Create a list of numbers taken as input from user\n",
    "numbers = input(\"Enter a list of numbers (space-separated): \")\n",
    "print(\"\\n\")\n",
    "number_list = list(map(int, numbers.split()))\n",
    "\n",
    "# Calculate the sum, average, maximum, and minimum\n",
    "total_sum = sum(number_list)\n",
    "average = total_sum / len(number_list)\n",
    "maximum = max(number_list)\n",
    "minimum = min(number_list)\n",
    "\n",
    "# Print the results\n",
    "print(\"Sum:\", total_sum)\n",
    "print(\"Average:\", average)\n",
    "print(\"Maximum:\", maximum)\n",
    "print(\"Minimum:\", minimum)\n"
   ]
  },
  {
   "cell_type": "markdown",
   "id": "17dbd6e8",
   "metadata": {
    "id": "17dbd6e8"
   },
   "source": [
    "#### 4. Write a program to take the marks of 3 students in five subjects each as a list (one list for each input) as input and print the average score of each student.."
   ]
  },
  {
   "cell_type": "code",
   "execution_count": 14,
   "id": "Olics1_krMwN",
   "metadata": {
    "id": "Olics1_krMwN"
   },
   "outputs": [
    {
     "name": "stdout",
     "output_type": "stream",
     "text": [
      "Enter the marks of first student:1 2 3 4\n",
      "Enter the marks of second student:1 2 3 4\n",
      "Enter the marks of third student:1 2 3 4\n",
      "Average score for student 1: 2.5\n",
      "Average score for student 2: 2.5\n",
      "Average score for student 3: 2.5\n"
     ]
    }
   ],
   "source": [
    "student1 = list(map(int, input(\"Enter the marks of first student:\").split()))\n",
    "student2 = list(map(int, input(\"Enter the marks of second student:\").split()))\n",
    "student3 = list(map(int, input(\"Enter the marks of third student:\").split()))\n",
    "\n",
    "average_s1 = sum(student1) / len(student1)\n",
    "average_s2 = sum(student2) / len(student2)\n",
    "average_s3 = sum(student3) / len(student3)\n",
    "\n",
    "# Print average scores\n",
    "print(\"Average score for student 1:\", average_s1)\n",
    "print(\"Average score for student 2:\", average_s2)\n",
    "print(\"Average score for student 3:\", average_s3)"
   ]
  },
  {
   "cell_type": "markdown",
   "id": "39fb8526",
   "metadata": {
    "id": "39fb8526"
   },
   "source": [
    "#### 5. Write a program to take a list as input containing results of 10 coin tosses as 'H' or 'T'. Jon gets a point for each 'T' and Tom gets a point for each 'H'. print the points recieved by both."
   ]
  },
  {
   "cell_type": "code",
   "execution_count": 15,
   "id": "83ad7dc6",
   "metadata": {
    "id": "83ad7dc6"
   },
   "outputs": [
    {
     "name": "stdout",
     "output_type": "stream",
     "text": [
      "Enter the coin toss results (H/T) for 10 tosses: H T H T\n",
      "Points for Jon: 2\n",
      "Points for Tom: 2\n"
     ]
    }
   ],
   "source": [
    "coin_toss_results = list(input(\"Enter the coin toss results (H/T) for 10 tosses: \"))\n",
    "\n",
    "# Count the occurrences of 'T' and 'H'\n",
    "jon_points = coin_toss_results.count('T')\n",
    "tom_points = coin_toss_results.count('H')\n",
    "\n",
    "# Print points for Jon and Tom\n",
    "print(\"Points for Jon:\", jon_points)\n",
    "print(\"Points for Tom:\", tom_points)\n"
   ]
  },
  {
   "cell_type": "markdown",
   "id": "4a6dc391",
   "metadata": {
    "id": "4a6dc391"
   },
   "source": [
    "#### 6. Take two numbers as input and print the result after swapping them. (Without using multiple assignment and any extra variable)."
   ]
  },
  {
   "cell_type": "code",
   "execution_count": 16,
   "id": "1bcd0fe3",
   "metadata": {
    "id": "1bcd0fe3"
   },
   "outputs": [
    {
     "name": "stdout",
     "output_type": "stream",
     "text": [
      "Enter the number23\n",
      "Enter the number12\n",
      "After swapping:\n",
      "\n",
      "First number: 12\n",
      "Second number: 23\n"
     ]
    }
   ],
   "source": [
    "x1 = int(input(\"Enter the number\"))\n",
    "x2 = int(input(\"Enter the number\"))\n",
    "\n",
    "x1 = x1 + x2\n",
    "x2 = x1 - x2\n",
    "x1 = x1 - x2\n",
    "\n",
    "print(\"After swapping:\\n\")\n",
    "print(\"First number:\", x1)\n",
    "print(\"Second number:\", x2)"
   ]
  },
  {
   "cell_type": "markdown",
   "id": "b0059e36",
   "metadata": {
    "id": "b0059e36"
   },
   "source": [
    "#### 7. Take a list as input in a single line containing 10 numbers as marks out of 100. The even positions in the list are marks of Tom and the odd positions are the marks of Jon. Calculate the average marks of both."
   ]
  },
  {
   "cell_type": "code",
   "execution_count": 17,
   "id": "ef40ed32",
   "metadata": {
    "id": "ef40ed32"
   },
   "outputs": [
    {
     "name": "stdout",
     "output_type": "stream",
     "text": [
      "Enter the marks of Tom and Jon (10 numbers): 1 2 4 5 6 7 8 9 5 2\n",
      "Average marks of Tom: 5.0\n",
      "Average marks of Jon: 4.8\n"
     ]
    }
   ],
   "source": [
    "marks = list(map(int, input(\"Enter the marks of Tom and Jon (10 numbers): \").split()))\n",
    "\n",
    "# Separate Tom's and Jon's marks\n",
    "tom_marks = marks[1::2]  # Get the marks at odd positions\n",
    "jon_marks = marks[::2]  # Get the marks at even positions\n",
    "\n",
    "# Calculate average marks\n",
    "tom_average = sum(tom_marks) / len(tom_marks)\n",
    "jon_average = sum(jon_marks) / len(jon_marks)\n",
    "\n",
    "# Print average marks\n",
    "print(\"Average marks of Tom:\", tom_average)\n",
    "print(\"Average marks of Jon:\", jon_average)\n"
   ]
  },
  {
   "cell_type": "markdown",
   "id": "f07dab7c",
   "metadata": {
    "id": "f07dab7c"
   },
   "source": [
    "#### 8. Take a string and a character as input. Print the result having the character between each word of the given string."
   ]
  },
  {
   "cell_type": "code",
   "execution_count": 18,
   "id": "a85ca910",
   "metadata": {
    "colab": {
     "base_uri": "https://localhost:8080/"
    },
    "executionInfo": {
     "elapsed": 8,
     "status": "ok",
     "timestamp": 1675744131872,
     "user": {
      "displayName": "Star Agile",
      "userId": "05958537219244458985"
     },
     "user_tz": -330
    },
    "id": "a85ca910",
    "outputId": "4464ab37-ebb1-4fda-f2c9-204f3c416701"
   },
   "outputs": [
    {
     "name": "stdout",
     "output_type": "stream",
     "text": [
      "Enter a string: Hello StarAgile\n",
      "Enter a character: **\n",
      "Result: H** **e** **l** **l** **o** ** ** **S** **t** **a** **r** **A** **g** **i** **l** **e\n"
     ]
    }
   ],
   "source": [
    "string = input(\"Enter a string: \")\n",
    "character = input(\"Enter a character: \")\n",
    "\n",
    "result = ' '.join(list(string))\n",
    "\n",
    "print(\"Result:\", character.join(result))\n"
   ]
  },
  {
   "cell_type": "markdown",
   "id": "a45320b7",
   "metadata": {
    "id": "a45320b7"
   },
   "source": [
    "#### 9. Create a dictionary having three items. Key of each item is the name of a student, value associated with each key is a list of marks in five subjects. Given this dictionary print the average score of each student."
   ]
  },
  {
   "cell_type": "code",
   "execution_count": 20,
   "id": "2vFaqcGP-MmK",
   "metadata": {
    "id": "2vFaqcGP-MmK"
   },
   "outputs": [
    {
     "name": "stdout",
     "output_type": "stream",
     "text": [
      "{'Haryy': 87.0, 'Gary': 83.0, 'Charles': 90.2}\n"
     ]
    }
   ],
   "source": [
    "# Create the dictionary with student names and marks\n",
    "student_marks = {\n",
    "    \"Haryy\": [80, 85, 90, 92, 88],\n",
    "    \"Gary\": [75, 82, 79, 88, 91],\n",
    "    \"Charles\": [90, 92, 88, 86, 95]\n",
    "}\n",
    "\n",
    "# Calculate the average score for each student without using a loop\n",
    "average_scores = dict(map(lambda student: (student, sum(student_marks[student]) / len(student_marks[student])), student_marks))\n",
    "\n",
    "# Print the average score for each student\n",
    "print(average_scores)\n"
   ]
  },
  {
   "cell_type": "markdown",
   "id": "aba63bd1",
   "metadata": {
    "id": "aba63bd1"
   },
   "source": [
    "#### 10. Take a string as input(may contain repetitive words), print a list consisting of unique words from the given string."
   ]
  },
  {
   "cell_type": "code",
   "execution_count": 21,
   "id": "LAcgERg-NDMj",
   "metadata": {
    "id": "LAcgERg-NDMj"
   },
   "outputs": [
    {
     "name": "stdout",
     "output_type": "stream",
     "text": [
      "Enter a string: hello hello guys this is staragile team\n",
      "['is', 'hello', 'guys', 'this', 'staragile', 'team']\n"
     ]
    }
   ],
   "source": [
    "# Take input string from the user\n",
    "input_string = input(\"Enter a string: \")\n",
    "\n",
    "# Split the string into words, convert to set to get unique words, and then convert back to list\n",
    "unique_words = list(set(input_string.split()))\n",
    "\n",
    "# Print the list of unique words\n",
    "print(unique_words)\n"
   ]
  }
 ],
 "metadata": {
  "colab": {
   "provenance": []
  },
  "kernelspec": {
   "display_name": "Python 3 (ipykernel)",
   "language": "python",
   "name": "python3"
  },
  "language_info": {
   "codemirror_mode": {
    "name": "ipython",
    "version": 3
   },
   "file_extension": ".py",
   "mimetype": "text/x-python",
   "name": "python",
   "nbconvert_exporter": "python",
   "pygments_lexer": "ipython3",
   "version": "3.10.9"
  }
 },
 "nbformat": 4,
 "nbformat_minor": 5
}
